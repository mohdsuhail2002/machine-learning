{
 "cells": [
  {
   "cell_type": "markdown",
   "id": "fe1f7b86",
   "metadata": {},
   "source": [
    "## Problem Statement\n",
    "\n",
    "You are a data scientist at a retail consulting firm. You have been provided with a dataset named **\"retail_store_sales_data.csv\"**, which includes detailed records of daily sales for a retail store over a two-year period. The dataset comprises the following columns:\n",
    "\n",
    "- **date:** The specific date for each sales record.\n",
    "- **day_of_week:** The day of the week corresponding to each date.\n",
    "- **sales_amount (usd):** : The total sales amount in USD recorded on each day."
   ]
  },
  {
   "cell_type": "markdown",
   "id": "6e33ad8f",
   "metadata": {},
   "source": [
    "**Import Necessary Libraries**"
   ]
  },
  {
   "cell_type": "code",
   "execution_count": 1,
   "id": "08ab1fe5",
   "metadata": {},
   "outputs": [],
   "source": [
    "import numpy as np\n",
    "import pandas as pd\n",
    "from matplotlib import pyplot\n",
    "import seaborn as sns"
   ]
  },
  {
   "cell_type": "markdown",
   "id": "90c7c849",
   "metadata": {},
   "source": [
    "### Task1: Data Import\n",
    "\n",
    "1. Import the data from the \"retail_store_sales_data.csv\" file.\n",
    "2. display the number of rows and columns. \n",
    "3. Display the first few rows of the dataset to get an overview.\n"
   ]
  },
  {
   "cell_type": "code",
   "execution_count": 2,
   "id": "e4172f2c",
   "metadata": {},
   "outputs": [
    {
     "data": {
      "text/html": [
       "<div>\n",
       "<style scoped>\n",
       "    .dataframe tbody tr th:only-of-type {\n",
       "        vertical-align: middle;\n",
       "    }\n",
       "\n",
       "    .dataframe tbody tr th {\n",
       "        vertical-align: top;\n",
       "    }\n",
       "\n",
       "    .dataframe thead th {\n",
       "        text-align: right;\n",
       "    }\n",
       "</style>\n",
       "<table border=\"1\" class=\"dataframe\">\n",
       "  <thead>\n",
       "    <tr style=\"text-align: right;\">\n",
       "      <th></th>\n",
       "      <th>date</th>\n",
       "      <th>day_of_week</th>\n",
       "      <th>sales_amount (usd)</th>\n",
       "    </tr>\n",
       "  </thead>\n",
       "  <tbody>\n",
       "    <tr>\n",
       "      <th>0</th>\n",
       "      <td>01-01-2020</td>\n",
       "      <td>Wednesday</td>\n",
       "      <td>1212</td>\n",
       "    </tr>\n",
       "    <tr>\n",
       "      <th>1</th>\n",
       "      <td>02-01-2020</td>\n",
       "      <td>Thursday</td>\n",
       "      <td>1261</td>\n",
       "    </tr>\n",
       "    <tr>\n",
       "      <th>2</th>\n",
       "      <td>03-01-2020</td>\n",
       "      <td>Friday</td>\n",
       "      <td>596</td>\n",
       "    </tr>\n",
       "    <tr>\n",
       "      <th>3</th>\n",
       "      <td>04-01-2020</td>\n",
       "      <td>Saturday</td>\n",
       "      <td>696</td>\n",
       "    </tr>\n",
       "    <tr>\n",
       "      <th>4</th>\n",
       "      <td>05-01-2020</td>\n",
       "      <td>Sunday</td>\n",
       "      <td>1434</td>\n",
       "    </tr>\n",
       "  </tbody>\n",
       "</table>\n",
       "</div>"
      ],
      "text/plain": [
       "         date day_of_week  sales_amount (usd)\n",
       "0  01-01-2020   Wednesday                1212\n",
       "1  02-01-2020    Thursday                1261\n",
       "2  03-01-2020      Friday                 596\n",
       "3  04-01-2020    Saturday                 696\n",
       "4  05-01-2020      Sunday                1434"
      ]
     },
     "execution_count": 2,
     "metadata": {},
     "output_type": "execute_result"
    }
   ],
   "source": [
    "df=pd.read_csv(\"retail_store_sales_data.csv\")\n",
    "df.head(5)"
   ]
  },
  {
   "cell_type": "markdown",
   "id": "8289c6ae",
   "metadata": {},
   "source": [
    "### Task2: Histogram Plot of Sales Amounts\n",
    "\n",
    "- Create the histogram plot for the 'sales_amount (usd)' column"
   ]
  },
  {
   "cell_type": "code",
   "execution_count": 5,
   "id": "4414a52a",
   "metadata": {},
   "outputs": [
    {
     "data": {
      "text/plain": [
       "<Axes: xlabel='sales_amount (usd)', ylabel='Count'>"
      ]
     },
     "execution_count": 5,
     "metadata": {},
     "output_type": "execute_result"
    },
    {
     "data": {
      "image/png": "[encoded data removed]",
      "text/plain": [
       "<Figure size 640x480 with 1 Axes>"
      ]
     },
     "metadata": {},
     "output_type": "display_data"
    }
   ],
   "source": [
    "sns.histplot(df[\"sales_amount (usd)\"],kde=True)\n"
   ]
  },
  {
   "cell_type": "markdown",
   "id": "b71ab51f",
   "metadata": {},
   "source": [
    "### Task 3: Computing Population Standard Deviation\n",
    "\n",
    "- **Determine Standard Deviation:** Calculate the population standard deviation for the 'Sales_Amount (usd)' column. This is helpful in the accurate creation of confidence intervals in subsequent analyses."
   ]
  },
  {
   "cell_type": "code",
   "execution_count": 8,
   "id": "100e82e3",
   "metadata": {},
   "outputs": [
    {
     "data": {
      "text/plain": [
       "np.float64(344.5730378406478)"
      ]
     },
     "execution_count": 8,
     "metadata": {},
     "output_type": "execute_result"
    }
   ],
   "source": [
    "population_std = np.std(df[\"sales_amount (usd)\"], ddof=0)\n",
    "population_std"
   ]
  },
  {
   "cell_type": "markdown",
   "id": "e195bb10",
   "metadata": {},
   "source": [
    "### Task4: Create Sample Data\n",
    "\n",
    "- Create a sample dataset consisting of 100 data points from the 'Sales_Amount (usd)' column.\n",
    "- Calculate the mean for this sample. \n"
   ]
  },
  {
   "cell_type": "code",
   "execution_count": 15,
   "id": "692e62a5",
   "metadata": {},
   "outputs": [
    {
     "data": {
      "text/plain": [
       "np.float64(987.67)"
      ]
     },
     "execution_count": 15,
     "metadata": {},
     "output_type": "execute_result"
    }
   ],
   "source": [
    "df_sample1=df.sample(n=100,random_state=100)\n",
    "sample_mean=df_sample1[\"sales_amount (usd)\"].mean()\n",
    "sample_mean"
   ]
  },
  {
   "cell_type": "markdown",
   "id": "e01aef31",
   "metadata": {},
   "source": [
    "### Task 5: Estimating Population Mean at Various Confidence Levels\n",
    "\n",
    "Confidence Interval Calculations: Using the sample data, estimate the population mean for 'Sales_Amount (usd)' at different confidence levels. Specifically, calculate the confidence intervals for the population mean at the following levels:\n",
    "\n",
    "    - 60% Confidence Level\n",
    "    - 82% Confidence Level\n",
    "    - 98% Confidence Level"
   ]
  },
  {
   "cell_type": "markdown",
   "id": "1b9e2c27",
   "metadata": {},
   "source": [
    "- **60% Confidence Level**"
   ]
  },
  {
   "cell_type": "code",
   "execution_count": 17,
   "id": "9a744653-3218-43bd-b47b-c9491340b0ee",
   "metadata": {},
   "outputs": [],
   "source": [
    "from scipy.stats import norm"
   ]
  },
  {
   "cell_type": "code",
   "execution_count": 26,
   "id": "1a45dcf9",
   "metadata": {},
   "outputs": [
    {
     "data": {
      "text/plain": [
       "(np.float64(1016.6699985163413), np.float64(958.6700014836587))"
      ]
     },
     "execution_count": 26,
     "metadata": {},
     "output_type": "execute_result"
    }
   ],
   "source": [
    "z_score_60=norm.ppf(1-(1-0.60)/2)\n",
    "margin_of_error=z_score_60 * (population_std/np.sqrt(100))\n",
    "upper=sample_mean+margin_of_error\n",
    "lower=sample_mean-margin_of_error\n",
    "upper,lower\n"
   ]
  },
  {
   "cell_type": "markdown",
   "id": "e8014b5e",
   "metadata": {},
   "source": [
    "- **82% Confidence Level**"
   ]
  },
  {
   "cell_type": "code",
   "execution_count": 27,
   "id": "af3cb4a4",
   "metadata": {},
   "outputs": [
    {
     "data": {
      "text/plain": [
       "(np.float64(1033.8688034958777), np.float64(941.4711965041222))"
      ]
     },
     "execution_count": 27,
     "metadata": {},
     "output_type": "execute_result"
    }
   ],
   "source": [
    "z_score_82 = norm.ppf(0.91)\n",
    "margin_of_error=z_score_82 * (population_std/np.sqrt(100))\n",
    "upper=sample_mean+margin_of_error\n",
    "lower=sample_mean-margin_of_error\n",
    "upper,lower"
   ]
  },
  {
   "cell_type": "markdown",
   "id": "5ae0741f",
   "metadata": {},
   "source": [
    "- **98% Confidence Level**"
   ]
  },
  {
   "cell_type": "code",
   "execution_count": 28,
   "id": "c9cb8bb5",
   "metadata": {},
   "outputs": [
    {
     "data": {
      "text/plain": [
       "(np.float64(1067.8296754032385), np.float64(907.5103245967614))"
      ]
     },
     "execution_count": 28,
     "metadata": {},
     "output_type": "execute_result"
    }
   ],
   "source": [
    "z_score_98 = norm.ppf(1 - (1 - 0.98)/2)\n",
    "margin_of_error=z_score_98 * (population_std/np.sqrt(100))\n",
    "upper=sample_mean+margin_of_error\n",
    "lower=sample_mean-margin_of_error\n",
    "upper,lower"
   ]
  }
 ],
 "metadata": {
  "kernelspec": {
   "display_name": "Python 3 (ipykernel)",
   "language": "python",
   "name": "python3"
  },
  "language_info": {
   "codemirror_mode": {
    "name": "ipython",
    "version": 3
   },
   "file_extension": ".py",
   "mimetype": "text/x-python",
   "name": "python",
   "nbconvert_exporter": "python",
   "pygments_lexer": "ipython3",
   "version": "3.13.4"
  }
 },
 "nbformat": 4,
 "nbformat_minor": 5
}
